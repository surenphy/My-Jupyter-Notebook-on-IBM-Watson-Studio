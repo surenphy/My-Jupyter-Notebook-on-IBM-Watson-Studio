My Jupyter Notebook on IBM Watson Studio
Surender Kumar

I am interested in data science because it's like solving a mystery. With the right tools and know-how you can be like a cyber Sherlock Holmes.

My code below generates an ascii art rendering of a pipe
# Define constants
PIPE_PIXEL = "@"
BG_PIXEL = " "

# Load packages
from PIL import Image

# Load image and get dims
pipe_png = Image.open('pipe.png')
pipe_obj = pipe_png.load()

WIDTH, HEIGHT = pipe_png.size

# Create container for ASCII art
pipe_ascii = ""

# Loop over PNG pixels and fill ASCII art pixels
for row in range(HEIGHT):
    pipe_ascii += "\n"
    for column in range(WIDTH):
        pipe_ascii += PIPE_PIXEL if pipe_obj[column,row][3] > (255//2) else BG_PIXEL

# Print result
print(pipe_ascii)
